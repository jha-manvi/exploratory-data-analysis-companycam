{
 "cells": [
  {
   "cell_type": "markdown",
   "id": "ac1fe685",
   "metadata": {},
   "source": [
    "## Company Cam Take Home Assessment\n",
    "\n",
    "The dataset consists of 3 tables: \n",
    "1. Users Table: Contains user information (user_id, signup_date, user_type)\n",
    "2. Events Table: Contains user activity logs (event_id, user_id, event_type, event_timestamp, etc)\n",
    "3. Subscriptions Table: Contains details on user paid subscriptions (user_id, plan_type, start_date, end_date)"
   ]
  },
  {
   "cell_type": "markdown",
   "id": "5212b9ff",
   "metadata": {},
   "source": [
    "## Exploratory Data Analysis"
   ]
  },
  {
   "cell_type": "code",
   "execution_count": 61,
   "id": "2c26790b",
   "metadata": {},
   "outputs": [],
   "source": [
    "# Importing necessary libraries\n",
    "import pandas as pd\n",
    "import matplotlib.pyplot as plt\n",
    "\n",
    "# Loading the data tables as pandas dataframes\n",
    "users=pd.read_csv('user.csv')\n",
    "events=pd.read_csv('event.csv')\n",
    "subscriptions=pd.read_csv('subscription.csv')"
   ]
  },
  {
   "cell_type": "code",
   "execution_count": 62,
   "id": "3e986f0e",
   "metadata": {},
   "outputs": [
    {
     "data": {
      "text/html": [
       "<div>\n",
       "<style scoped>\n",
       "    .dataframe tbody tr th:only-of-type {\n",
       "        vertical-align: middle;\n",
       "    }\n",
       "\n",
       "    .dataframe tbody tr th {\n",
       "        vertical-align: top;\n",
       "    }\n",
       "\n",
       "    .dataframe thead th {\n",
       "        text-align: right;\n",
       "    }\n",
       "</style>\n",
       "<table border=\"1\" class=\"dataframe\">\n",
       "  <thead>\n",
       "    <tr style=\"text-align: right;\">\n",
       "      <th></th>\n",
       "      <th>user_id</th>\n",
       "      <th>signup_date</th>\n",
       "      <th>user_type</th>\n",
       "    </tr>\n",
       "  </thead>\n",
       "  <tbody>\n",
       "    <tr>\n",
       "      <th>0</th>\n",
       "      <td>1</td>\n",
       "      <td>2023-09-11</td>\n",
       "      <td>Free</td>\n",
       "    </tr>\n",
       "    <tr>\n",
       "      <th>1</th>\n",
       "      <td>2</td>\n",
       "      <td>2023-11-27</td>\n",
       "      <td>Free</td>\n",
       "    </tr>\n",
       "    <tr>\n",
       "      <th>2</th>\n",
       "      <td>3</td>\n",
       "      <td>2023-09-01</td>\n",
       "      <td>Free</td>\n",
       "    </tr>\n",
       "    <tr>\n",
       "      <th>3</th>\n",
       "      <td>4</td>\n",
       "      <td>2023-06-15</td>\n",
       "      <td>Free</td>\n",
       "    </tr>\n",
       "    <tr>\n",
       "      <th>4</th>\n",
       "      <td>5</td>\n",
       "      <td>2023-09-15</td>\n",
       "      <td>Free</td>\n",
       "    </tr>\n",
       "  </tbody>\n",
       "</table>\n",
       "</div>"
      ],
      "text/plain": [
       "   user_id signup_date user_type\n",
       "0        1  2023-09-11      Free\n",
       "1        2  2023-11-27      Free\n",
       "2        3  2023-09-01      Free\n",
       "3        4  2023-06-15      Free\n",
       "4        5  2023-09-15      Free"
      ]
     },
     "execution_count": 62,
     "metadata": {},
     "output_type": "execute_result"
    }
   ],
   "source": [
    "# Exploring the dataframes\n",
    "users.head(5)"
   ]
  },
  {
   "cell_type": "code",
   "execution_count": 63,
   "id": "fe9fcd0c",
   "metadata": {},
   "outputs": [
    {
     "data": {
      "text/html": [
       "<div>\n",
       "<style scoped>\n",
       "    .dataframe tbody tr th:only-of-type {\n",
       "        vertical-align: middle;\n",
       "    }\n",
       "\n",
       "    .dataframe tbody tr th {\n",
       "        vertical-align: top;\n",
       "    }\n",
       "\n",
       "    .dataframe thead th {\n",
       "        text-align: right;\n",
       "    }\n",
       "</style>\n",
       "<table border=\"1\" class=\"dataframe\">\n",
       "  <thead>\n",
       "    <tr style=\"text-align: right;\">\n",
       "      <th></th>\n",
       "      <th>event_id</th>\n",
       "      <th>user_id</th>\n",
       "      <th>event_type</th>\n",
       "      <th>event_timestamp</th>\n",
       "    </tr>\n",
       "  </thead>\n",
       "  <tbody>\n",
       "    <tr>\n",
       "      <th>0</th>\n",
       "      <td>1</td>\n",
       "      <td>1</td>\n",
       "      <td>Upload Photo</td>\n",
       "      <td>2024-02-14</td>\n",
       "    </tr>\n",
       "    <tr>\n",
       "      <th>1</th>\n",
       "      <td>2</td>\n",
       "      <td>1</td>\n",
       "      <td>Invite User</td>\n",
       "      <td>2023-11-04</td>\n",
       "    </tr>\n",
       "    <tr>\n",
       "      <th>2</th>\n",
       "      <td>3</td>\n",
       "      <td>1</td>\n",
       "      <td>Login</td>\n",
       "      <td>2023-12-22</td>\n",
       "    </tr>\n",
       "    <tr>\n",
       "      <th>3</th>\n",
       "      <td>4</td>\n",
       "      <td>1</td>\n",
       "      <td>Login</td>\n",
       "      <td>2024-01-19</td>\n",
       "    </tr>\n",
       "    <tr>\n",
       "      <th>4</th>\n",
       "      <td>5</td>\n",
       "      <td>1</td>\n",
       "      <td>View Photo</td>\n",
       "      <td>2023-10-12</td>\n",
       "    </tr>\n",
       "  </tbody>\n",
       "</table>\n",
       "</div>"
      ],
      "text/plain": [
       "   event_id  user_id    event_type event_timestamp\n",
       "0         1        1  Upload Photo      2024-02-14\n",
       "1         2        1   Invite User      2023-11-04\n",
       "2         3        1         Login      2023-12-22\n",
       "3         4        1         Login      2024-01-19\n",
       "4         5        1    View Photo      2023-10-12"
      ]
     },
     "execution_count": 63,
     "metadata": {},
     "output_type": "execute_result"
    }
   ],
   "source": [
    "events.head(5)"
   ]
  },
  {
   "cell_type": "code",
   "execution_count": 64,
   "id": "f9654c3c",
   "metadata": {},
   "outputs": [
    {
     "data": {
      "text/html": [
       "<div>\n",
       "<style scoped>\n",
       "    .dataframe tbody tr th:only-of-type {\n",
       "        vertical-align: middle;\n",
       "    }\n",
       "\n",
       "    .dataframe tbody tr th {\n",
       "        vertical-align: top;\n",
       "    }\n",
       "\n",
       "    .dataframe thead th {\n",
       "        text-align: right;\n",
       "    }\n",
       "</style>\n",
       "<table border=\"1\" class=\"dataframe\">\n",
       "  <thead>\n",
       "    <tr style=\"text-align: right;\">\n",
       "      <th></th>\n",
       "      <th>subscription_id</th>\n",
       "      <th>user_id</th>\n",
       "      <th>plan_type</th>\n",
       "      <th>start_date</th>\n",
       "      <th>end_date</th>\n",
       "    </tr>\n",
       "  </thead>\n",
       "  <tbody>\n",
       "    <tr>\n",
       "      <th>0</th>\n",
       "      <td>0</td>\n",
       "      <td>16</td>\n",
       "      <td>Pro</td>\n",
       "      <td>2023-10-31</td>\n",
       "      <td>2024-03-09</td>\n",
       "    </tr>\n",
       "    <tr>\n",
       "      <th>1</th>\n",
       "      <td>1</td>\n",
       "      <td>19</td>\n",
       "      <td>Pro</td>\n",
       "      <td>2023-06-28</td>\n",
       "      <td>2024-03-14</td>\n",
       "    </tr>\n",
       "    <tr>\n",
       "      <th>2</th>\n",
       "      <td>2</td>\n",
       "      <td>24</td>\n",
       "      <td>Pro</td>\n",
       "      <td>2023-07-02</td>\n",
       "      <td>2024-03-08</td>\n",
       "    </tr>\n",
       "    <tr>\n",
       "      <th>3</th>\n",
       "      <td>3</td>\n",
       "      <td>28</td>\n",
       "      <td>Pro</td>\n",
       "      <td>2023-09-10</td>\n",
       "      <td>2024-01-21</td>\n",
       "    </tr>\n",
       "    <tr>\n",
       "      <th>4</th>\n",
       "      <td>4</td>\n",
       "      <td>32</td>\n",
       "      <td>Pro</td>\n",
       "      <td>2023-07-04</td>\n",
       "      <td>2024-07-06</td>\n",
       "    </tr>\n",
       "  </tbody>\n",
       "</table>\n",
       "</div>"
      ],
      "text/plain": [
       "   subscription_id  user_id plan_type  start_date    end_date\n",
       "0                0       16       Pro  2023-10-31  2024-03-09\n",
       "1                1       19       Pro  2023-06-28  2024-03-14\n",
       "2                2       24       Pro  2023-07-02  2024-03-08\n",
       "3                3       28       Pro  2023-09-10  2024-01-21\n",
       "4                4       32       Pro  2023-07-04  2024-07-06"
      ]
     },
     "execution_count": 64,
     "metadata": {},
     "output_type": "execute_result"
    }
   ],
   "source": [
    "subscriptions.head(5)"
   ]
  },
  {
   "cell_type": "code",
   "execution_count": 65,
   "id": "fbc133d7",
   "metadata": {},
   "outputs": [
    {
     "data": {
      "text/html": [
       "<div>\n",
       "<style scoped>\n",
       "    .dataframe tbody tr th:only-of-type {\n",
       "        vertical-align: middle;\n",
       "    }\n",
       "\n",
       "    .dataframe tbody tr th {\n",
       "        vertical-align: top;\n",
       "    }\n",
       "\n",
       "    .dataframe thead th {\n",
       "        text-align: right;\n",
       "    }\n",
       "</style>\n",
       "<table border=\"1\" class=\"dataframe\">\n",
       "  <thead>\n",
       "    <tr style=\"text-align: right;\">\n",
       "      <th></th>\n",
       "      <th>subscription_id</th>\n",
       "      <th>user_id</th>\n",
       "      <th>plan_type</th>\n",
       "      <th>start_date</th>\n",
       "      <th>end_date</th>\n",
       "    </tr>\n",
       "  </thead>\n",
       "  <tbody>\n",
       "    <tr>\n",
       "      <th>0</th>\n",
       "      <td>0</td>\n",
       "      <td>16</td>\n",
       "      <td>Pro</td>\n",
       "      <td>2023-10-31</td>\n",
       "      <td>2024-03-09</td>\n",
       "    </tr>\n",
       "    <tr>\n",
       "      <th>1</th>\n",
       "      <td>1</td>\n",
       "      <td>19</td>\n",
       "      <td>Pro</td>\n",
       "      <td>2023-06-28</td>\n",
       "      <td>2024-03-14</td>\n",
       "    </tr>\n",
       "    <tr>\n",
       "      <th>2</th>\n",
       "      <td>2</td>\n",
       "      <td>24</td>\n",
       "      <td>Pro</td>\n",
       "      <td>2023-07-02</td>\n",
       "      <td>2024-03-08</td>\n",
       "    </tr>\n",
       "    <tr>\n",
       "      <th>3</th>\n",
       "      <td>3</td>\n",
       "      <td>28</td>\n",
       "      <td>Pro</td>\n",
       "      <td>2023-09-10</td>\n",
       "      <td>2024-01-21</td>\n",
       "    </tr>\n",
       "    <tr>\n",
       "      <th>4</th>\n",
       "      <td>4</td>\n",
       "      <td>32</td>\n",
       "      <td>Pro</td>\n",
       "      <td>2023-07-04</td>\n",
       "      <td>2024-07-06</td>\n",
       "    </tr>\n",
       "    <tr>\n",
       "      <th>...</th>\n",
       "      <td>...</td>\n",
       "      <td>...</td>\n",
       "      <td>...</td>\n",
       "      <td>...</td>\n",
       "      <td>...</td>\n",
       "    </tr>\n",
       "    <tr>\n",
       "      <th>141</th>\n",
       "      <td>141</td>\n",
       "      <td>479</td>\n",
       "      <td>Pro</td>\n",
       "      <td>2023-07-07</td>\n",
       "      <td>2023-09-06</td>\n",
       "    </tr>\n",
       "    <tr>\n",
       "      <th>142</th>\n",
       "      <td>142</td>\n",
       "      <td>486</td>\n",
       "      <td>Pro</td>\n",
       "      <td>2023-11-10</td>\n",
       "      <td>2024-06-07</td>\n",
       "    </tr>\n",
       "    <tr>\n",
       "      <th>143</th>\n",
       "      <td>143</td>\n",
       "      <td>491</td>\n",
       "      <td>Pro</td>\n",
       "      <td>2023-11-22</td>\n",
       "      <td>2024-08-04</td>\n",
       "    </tr>\n",
       "    <tr>\n",
       "      <th>144</th>\n",
       "      <td>144</td>\n",
       "      <td>494</td>\n",
       "      <td>Pro</td>\n",
       "      <td>2023-09-13</td>\n",
       "      <td>2023-11-12</td>\n",
       "    </tr>\n",
       "    <tr>\n",
       "      <th>145</th>\n",
       "      <td>145</td>\n",
       "      <td>499</td>\n",
       "      <td>Pro</td>\n",
       "      <td>2023-11-26</td>\n",
       "      <td>2024-02-28</td>\n",
       "    </tr>\n",
       "  </tbody>\n",
       "</table>\n",
       "<p>146 rows × 5 columns</p>\n",
       "</div>"
      ],
      "text/plain": [
       "     subscription_id  user_id plan_type  start_date    end_date\n",
       "0                  0       16       Pro  2023-10-31  2024-03-09\n",
       "1                  1       19       Pro  2023-06-28  2024-03-14\n",
       "2                  2       24       Pro  2023-07-02  2024-03-08\n",
       "3                  3       28       Pro  2023-09-10  2024-01-21\n",
       "4                  4       32       Pro  2023-07-04  2024-07-06\n",
       "..               ...      ...       ...         ...         ...\n",
       "141              141      479       Pro  2023-07-07  2023-09-06\n",
       "142              142      486       Pro  2023-11-10  2024-06-07\n",
       "143              143      491       Pro  2023-11-22  2024-08-04\n",
       "144              144      494       Pro  2023-09-13  2023-11-12\n",
       "145              145      499       Pro  2023-11-26  2024-02-28\n",
       "\n",
       "[146 rows x 5 columns]"
      ]
     },
     "execution_count": 65,
     "metadata": {},
     "output_type": "execute_result"
    }
   ],
   "source": [
    "subscriptions"
   ]
  },
  {
   "cell_type": "code",
   "execution_count": 66,
   "id": "3e768003",
   "metadata": {},
   "outputs": [
    {
     "name": "stdout",
     "output_type": "stream",
     "text": [
      "Number of unique users are: 500\n"
     ]
    }
   ],
   "source": [
    "# Calculate number of unique users\n",
    "num_unique_users = users['user_id'].nunique()\n",
    "print(\"Number of unique users are:\", num_unique_users)"
   ]
  },
  {
   "cell_type": "code",
   "execution_count": 67,
   "id": "59c6681c",
   "metadata": {},
   "outputs": [
    {
     "name": "stdout",
     "output_type": "stream",
     "text": [
      "Unique event types: ['Upload Photo' 'Invite User' 'Login' 'View Photo' 'Share Photo']\n"
     ]
    }
   ],
   "source": [
    "# Print the unique event types\n",
    "unique_event_types = events['event_type'].unique()\n",
    "print(\"Unique event types:\", unique_event_types)"
   ]
  },
  {
   "cell_type": "code",
   "execution_count": 68,
   "id": "071ca800",
   "metadata": {},
   "outputs": [
    {
     "name": "stdout",
     "output_type": "stream",
     "text": [
      "Invite User     2758\n",
      "Upload Photo    2677\n",
      "Share Photo     2676\n",
      "Login           2615\n",
      "View Photo      2607\n",
      "Name: event_type, dtype: int64\n"
     ]
    },
    {
     "data": {
      "image/png": "[encoded data removed]",
      "text/plain": [
       "<Figure size 720x360 with 1 Axes>"
      ]
     },
     "metadata": {
      "needs_background": "light"
     },
     "output_type": "display_data"
    }
   ],
   "source": [
    "# Display a plot to show which event is most popular\n",
    "event_counts = events['event_type'].value_counts()\n",
    "print(event_counts);\n",
    "\n",
    "plt.figure(figsize=(10, 5))\n",
    "event_counts.plot(kind='bar', color='blue')\n",
    "plt.title(\"Most Popular Events\")\n",
    "plt.xlabel(\"Event Type\")\n",
    "plt.ylabel(\"Count\")\n",
    "plt.xticks(rotation=45)\n",
    "plt.show()"
   ]
  },
  {
   "cell_type": "code",
   "execution_count": 69,
   "id": "64cf85a3",
   "metadata": {},
   "outputs": [
    {
     "name": "stdout",
     "output_type": "stream",
     "text": [
      "Most popular event: Invite User\n"
     ]
    }
   ],
   "source": [
    "# Print the most popular event\n",
    "most_popular_event = event_counts.idxmax()\n",
    "print(\"Most popular event:\", most_popular_event)"
   ]
  },
  {
   "cell_type": "code",
   "execution_count": 70,
   "id": "3636ee62",
   "metadata": {},
   "outputs": [
    {
     "data": {
      "image/png": "[encoded data removed]",
      "text/plain": [
       "<Figure size 720x360 with 1 Axes>"
      ]
     },
     "metadata": {
      "needs_background": "light"
     },
     "output_type": "display_data"
    },
    {
     "name": "stdout",
     "output_type": "stream",
     "text": [
      "Average login frequency per user: nan\n"
     ]
    }
   ],
   "source": [
    "# Print the average login frequency\n",
    "login_counts = events[events['event_type']=='login'].groupby('user_id').size()\n",
    "plt.figure(figsize=(10,5))\n",
    "plt.hist(login_counts,bins=20,color='blue',edgecolor='black')\n",
    "plt.title(\"Distribution of Login Frequencies\")\n",
    "plt.xlabel(\"Login Count\")\n",
    "plt.ylabel(\"Number of Users\")\n",
    "plt.show()\n",
    "print(\"Average login frequency per user:\", login_counts.mean())"
   ]
  },
  {
   "cell_type": "code",
   "execution_count": 72,
   "id": "1a5d49b2",
   "metadata": {},
   "outputs": [
    {
     "data": {
      "image/png": "[encoded data removed]",
      "text/plain": [
       "<Figure size 432x288 with 1 Axes>"
      ]
     },
     "metadata": {
      "needs_background": "light"
     },
     "output_type": "display_data"
    },
    {
     "name": "stdout",
     "output_type": "stream",
     "text": [
      "Free    354\n",
      "Paid    146\n",
      "Name: user_type, dtype: int64\n"
     ]
    }
   ],
   "source": [
    "# Print number of paid vs free users\n",
    "user_type_counts = users['user_type'].value_counts()\n",
    "plt.figure(figsize=(6, 4))\n",
    "user_type_counts.plot(kind='bar', color=['blue', 'black'])\n",
    "plt.title(\"Paid vs Free Users\")\n",
    "plt.xlabel(\"User Type\")\n",
    "plt.ylabel(\"Count\")\n",
    "plt.xticks(rotation=0)\n",
    "plt.show()\n",
    "print(user_type_counts)"
   ]
  },
  {
   "cell_type": "code",
   "execution_count": 74,
   "id": "5ac6a1e4",
   "metadata": {},
   "outputs": [
    {
     "name": "stdout",
     "output_type": "stream",
     "text": [
      "Average subscription duration: 207.9931506849315 days\n"
     ]
    }
   ],
   "source": [
    "# Print average subscription duration\n",
    "subscriptions['start_date'] = pd.to_datetime(subscriptions['start_date'])\n",
    "subscriptions['end_date'] = pd.to_datetime(subscriptions['end_date'])\n",
    "subscriptions['subscription_duration'] = (subscriptions['end_date'] - subscriptions['start_date']).dt.days\n",
    "print(\"Average subscription duration:\", subscriptions['subscription_duration'].mean(), 'days')"
   ]
  },
  {
   "cell_type": "code",
   "execution_count": 75,
   "id": "bff35d5a",
   "metadata": {},
   "outputs": [],
   "source": [
    "#How many users remain active even after signing up"
   ]
  },
  {
   "cell_type": "code",
   "execution_count": 77,
   "id": "d533472a",
   "metadata": {},
   "outputs": [
    {
     "data": {
      "image/png": "[encoded data removed]",
      "text/plain": [
       "<Figure size 432x288 with 1 Axes>"
      ]
     },
     "metadata": {
      "needs_background": "light"
     },
     "output_type": "display_data"
    },
    {
     "name": "stdout",
     "output_type": "stream",
     "text": [
      "user_type\n",
      "Free    9407\n",
      "Paid    3926\n",
      "Name: event_id, dtype: int64\n"
     ]
    }
   ],
   "source": [
    "# Compare user activity of paid vs unpaid users\n",
    "merged_data = events.merge(users, on='user_id', how='left')\n",
    "activity_counts = merged_data.groupby('user_type')['event_id'].count()\n",
    "plt.figure(figsize=(6, 4))\n",
    "activity_counts.plot(kind='bar', color=['blue', 'black'])\n",
    "plt.title(\"Activity: Paid vs Free Users\")\n",
    "plt.xlabel(\"User Type\")\n",
    "plt.ylabel(\"Number of Events\")\n",
    "plt.xticks(rotation=0)\n",
    "plt.show()\n",
    "print(activity_counts)"
   ]
  },
  {
   "cell_type": "code",
   "execution_count": 79,
   "id": "694b85f7",
   "metadata": {},
   "outputs": [
    {
     "name": "stdout",
     "output_type": "stream",
     "text": [
      "Most used feature by paid and free users:\n",
      "  user_type   event_type  event_id\n",
      "0      Free  Invite User      1962\n",
      "5      Paid  Invite User       796\n"
     ]
    }
   ],
   "source": [
    "# Print most used feature for each paid and free user\n",
    "event_user_type = merged_data.groupby(['user_type', 'event_type'])['event_id'].count().reset_index()\n",
    "most_used_feature = event_user_type.loc[event_user_type.groupby('user_type')['event_id'].idxmax()]\n",
    "print(\"Most used feature by paid and free users:\")\n",
    "print(most_used_feature)"
   ]
  },
  {
   "cell_type": "code",
   "execution_count": 78,
   "id": "ef05919a",
   "metadata": {},
   "outputs": [
    {
     "data": {
      "image/png": "[encoded data removed]",
      "text/plain": [
       "<Figure size 864x432 with 1 Axes>"
      ]
     },
     "metadata": {
      "needs_background": "light"
     },
     "output_type": "display_data"
    }
   ],
   "source": [
    "# Print analysis of features month-wise\n",
    "events['event_month'] = pd.to_datetime(events['event_timestamp']).dt.to_period('M')\n",
    "monthly_analysis = events.groupby(['event_month', 'event_type']).size().unstack()\n",
    "monthly_analysis.plot(kind='line', figsize=(12, 6))\n",
    "plt.title(\"Monthly Event Analysis\")\n",
    "plt.xlabel(\"Month\")\n",
    "plt.ylabel(\"Event Count\")\n",
    "plt.legend(title=\"Event Type\")\n",
    "plt.grid()\n",
    "plt.show()"
   ]
  },
  {
   "cell_type": "markdown",
   "id": "5e1acedb",
   "metadata": {},
   "source": [
    "## Experimentation & A/B Testing Readiness\n",
    "Proposed Experiment: Enhancing User Engagement with Emoji Reactions\n",
    "To improve user engagement, I propose introducing emoji reactions (thumbs up and thumbs down) on user-generated content such as photos. This feature aims to encourage more interaction and engagement from both free and paid users. The experiment will compare engagement metrics before and after implementing this feature.\n",
    "\n",
    "### Key Metrics\n",
    "\n",
    "Feature Adoption Rate: Percentage of users who interact with emoji reactions.\n",
    "\n",
    "Engagement Metrics: Changes in photo views and shares after introducing emoji reactions.\n",
    "\n",
    "Unpaid User Engagement: Increase in interaction from free-tier users.\n",
    "\n",
    "Paid User Engagement: Whether paid users exhibit higher engagement post-feature introduction.\n",
    "\n",
    "Conversion Rate: Percentage of unpaid users converting to paid users after interacting with the feature.\n",
    "\n",
    "### Success Criteria:\n",
    "The experiment will be considered successful if:\n",
    "\n",
    "There is a statistically significant increase in engagement (views, shares) after introducing emoji reactions.\n",
    "\n",
    "Free-tier users demonstrate higher engagement with the platform.\n",
    "\n",
    "Paid users show increased interaction with content.\n",
    "\n",
    "The feature contributes to an increase in the conversion rate from free to paid users.\n",
    "\n",
    "### Analysis Approach:\n",
    "To evaluate the effectiveness of the feature, I will conduct an A/B test:\n",
    "\n",
    "Randomized User Groups: Users will be randomly split into control (no emoji reactions) and treatment (with emoji reactions) groups.\n",
    "\n",
    "Significance Testing: Conduct hypothesis testing to determine whether observed engagement differences are statistically significant.\n",
    "\n",
    "Retention Analysis: Assess whether users continue to engage with the feature over time.\n",
    "\n",
    "This approach will ensure a data-driven evaluation of the impact of emoji reactions on user engagement and inform further iterations of the feature."
   ]
  },
  {
   "cell_type": "markdown",
   "id": "511749be",
   "metadata": {},
   "source": [
    "## SQL Challenge"
   ]
  },
  {
   "cell_type": "markdown",
   "id": "a7d3fbc5",
   "metadata": {},
   "source": [
    "#### sql_retention\n",
    "with last_three_signup as (\n",
    "select distinct user_id from user where\n",
    "signup_date>=((SELECT MAX(start_date) - INTERVAL '3' month FROM subscription))),\n",
    "\n",
    "retained_days_last_three_months as (\n",
    "SELECT s.user_id, end_date-start_date as retained_days\n",
    "from subscription s inner join last_three_signup lts\n",
    "on s.user_id=lts.user_id) \n",
    "\n",
    "select cast(avg(retained_days) as int) as retention\n",
    "from retained_days_last_three_months;\n",
    "\n",
    "#### sql_top_features\n",
    "SELECT event_type, COUNT(*) as event_count\n",
    "FROM events\n",
    "GROUP BY event_type\n",
    "ORDER BY event_count DESC\n",
    "LIMIT 3;"
   ]
  }
 ],
 "metadata": {
  "kernelspec": {
   "display_name": "Python 3",
   "language": "python",
   "name": "python3"
  },
  "language_info": {
   "codemirror_mode": {
    "name": "ipython",
    "version": 3
   },
   "file_extension": ".py",
   "mimetype": "text/x-python",
   "name": "python",
   "nbconvert_exporter": "python",
   "pygments_lexer": "ipython3",
   "version": "3.8.8"
  }
 },
 "nbformat": 4,
 "nbformat_minor": 5
}
